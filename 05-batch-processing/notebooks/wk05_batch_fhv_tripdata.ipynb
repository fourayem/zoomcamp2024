{
 "cells": [
  {
   "cell_type": "code",
   "execution_count": 1,
   "id": "1c71c3f6-7b0e-4dcd-8c7b-d155b14d17e1",
   "metadata": {},
   "outputs": [],
   "source": [
    "import pyspark"
   ]
  },
  {
   "cell_type": "code",
   "execution_count": 45,
   "id": "f7fe40ee-2054-47d6-906e-2049d83b845e",
   "metadata": {},
   "outputs": [
    {
     "data": {
      "text/plain": [
       "'3.3.4'"
      ]
     },
     "execution_count": 45,
     "metadata": {},
     "output_type": "execute_result"
    }
   ],
   "source": [
    "# Homework Question #5\n",
    "\n",
    "pyspark.__version__"
   ]
  },
  {
   "cell_type": "code",
   "execution_count": 46,
   "id": "b24905fc-8680-4356-bb27-fcd8a85a317e",
   "metadata": {},
   "outputs": [
    {
     "data": {
      "text/plain": [
       "'3.3.4'"
      ]
     },
     "execution_count": 46,
     "metadata": {},
     "output_type": "execute_result"
    }
   ],
   "source": [
    "spark.version"
   ]
  },
  {
   "cell_type": "code",
   "execution_count": 3,
   "id": "a749695b-ab87-40be-aeb0-757dad98828e",
   "metadata": {},
   "outputs": [
    {
     "data": {
      "text/plain": [
       "'/opt/bitnami/spark/python/pyspark/__init__.py'"
      ]
     },
     "execution_count": 3,
     "metadata": {},
     "output_type": "execute_result"
    }
   ],
   "source": [
    "pyspark.__file__"
   ]
  },
  {
   "cell_type": "code",
   "execution_count": 4,
   "id": "f66bd9a7-b519-4c9e-a2e1-19f6e7b53d9c",
   "metadata": {},
   "outputs": [],
   "source": [
    "from pyspark.sql import SparkSession"
   ]
  },
  {
   "cell_type": "code",
   "execution_count": 5,
   "id": "80bfe758-74ad-45b9-bfde-55b9cfa218c0",
   "metadata": {},
   "outputs": [
    {
     "name": "stderr",
     "output_type": "stream",
     "text": [
      "Setting default log level to \"WARN\".\n",
      "To adjust logging level use sc.setLogLevel(newLevel). For SparkR, use setLogLevel(newLevel).\n"
     ]
    },
    {
     "name": "stdout",
     "output_type": "stream",
     "text": [
      "24/03/04 16:19:04 WARN NativeCodeLoader: Unable to load native-hadoop library for your platform... using builtin-java classes where applicable\n"
     ]
    }
   ],
   "source": [
    "spark = SparkSession.builder \\\n",
    "    .master(\"local[*]\") \\\n",
    "    .appName('test') \\\n",
    "    .getOrCreate()"
   ]
  },
  {
   "cell_type": "code",
   "execution_count": 6,
   "id": "151dae7b-21f3-4771-bae8-068492cfbfad",
   "metadata": {},
   "outputs": [],
   "source": [
    "# !wget https://github.com/DataTalksClub/nyc-tlc-data/releases/download/fhv/fhv_tripdata_2019-10.csv.gz"
   ]
  },
  {
   "cell_type": "code",
   "execution_count": 7,
   "id": "82a0815c-8699-4fcd-9024-b1102186e679",
   "metadata": {},
   "outputs": [],
   "source": [
    "# !head fhv_tripdata_2019-10.csv.gz"
   ]
  },
  {
   "cell_type": "code",
   "execution_count": null,
   "id": "5236fa00-120c-4069-8243-804a818b4c41",
   "metadata": {},
   "outputs": [],
   "source": [
    "df = spark.read \\\n",
    "    .option(\"header\", \"true\") \\\n",
    "    .option(\"compression\", \"gzip\") \\\n",
    "    .csv('fhv_tripdata_2019-10.csv.gz')"
   ]
  },
  {
   "cell_type": "code",
   "execution_count": null,
   "id": "38bb800f-4e21-4e9d-8491-cd391be0297c",
   "metadata": {},
   "outputs": [],
   "source": [
    "df = spark.read.option(\"compression\", 'gzip').csv('fhv_tripdata_2019-10.csv.gz', header=True, inferSchema=True)"
   ]
  },
  {
   "cell_type": "code",
   "execution_count": null,
   "id": "3c01eb5c-a0bc-47d3-9774-a6d5d02bec35",
   "metadata": {},
   "outputs": [],
   "source": [
    "df.show()"
   ]
  },
  {
   "cell_type": "code",
   "execution_count": null,
   "id": "ace7e969-9ecc-4ef5-84e0-b5f27b691814",
   "metadata": {},
   "outputs": [],
   "source": [
    "df.head(5)"
   ]
  },
  {
   "cell_type": "code",
   "execution_count": null,
   "id": "8c1428ef-4e90-459a-a419-73d90b905373",
   "metadata": {},
   "outputs": [],
   "source": [
    "df.schema"
   ]
  },
  {
   "cell_type": "code",
   "execution_count": null,
   "id": "cb7bc2c5-a0b3-4dc3-9ef6-256d59bb9569",
   "metadata": {},
   "outputs": [],
   "source": [
    "# Homework Question #2\n",
    "\n",
    "df.repartition(6)\n",
    "df.write.parquet('fhv_tripdata_2019-10/')"
   ]
  },
  {
   "cell_type": "code",
   "execution_count": 8,
   "id": "2a59c050-a87b-4fc4-bd02-9b04ce44a47b",
   "metadata": {},
   "outputs": [],
   "source": [
    "df = spark.read.parquet('fhv_tripdata_2019-10/')"
   ]
  },
  {
   "cell_type": "code",
   "execution_count": 9,
   "id": "ab7963f8-9ddf-4c52-9622-5a391fc0c676",
   "metadata": {},
   "outputs": [
    {
     "name": "stdout",
     "output_type": "stream",
     "text": [
      "root\n",
      " |-- dispatching_base_num: string (nullable = true)\n",
      " |-- pickup_datetime: timestamp (nullable = true)\n",
      " |-- dropOff_datetime: timestamp (nullable = true)\n",
      " |-- PUlocationID: integer (nullable = true)\n",
      " |-- DOlocationID: integer (nullable = true)\n",
      " |-- SR_Flag: string (nullable = true)\n",
      " |-- Affiliated_base_number: string (nullable = true)\n",
      "\n"
     ]
    }
   ],
   "source": [
    "df.printSchema()"
   ]
  },
  {
   "cell_type": "code",
   "execution_count": 10,
   "id": "5f7e8bf6-e7ec-4230-b950-4ee2047e37e0",
   "metadata": {},
   "outputs": [],
   "source": [
    "from pyspark.sql import functions as F"
   ]
  },
  {
   "cell_type": "code",
   "execution_count": 11,
   "id": "ad10590a-ba4f-4eb2-826e-101635ef51a2",
   "metadata": {},
   "outputs": [
    {
     "data": {
      "text/plain": [
       "[('dispatching_base_num', 'string'),\n",
       " ('pickup_datetime', 'timestamp'),\n",
       " ('dropOff_datetime', 'timestamp'),\n",
       " ('PUlocationID', 'int'),\n",
       " ('DOlocationID', 'int'),\n",
       " ('SR_Flag', 'string'),\n",
       " ('Affiliated_base_number', 'string')]"
      ]
     },
     "execution_count": 11,
     "metadata": {},
     "output_type": "execute_result"
    }
   ],
   "source": [
    "df.dtypes"
   ]
  },
  {
   "cell_type": "code",
   "execution_count": 12,
   "id": "c4bccb98-6374-4d24-8e3b-9c5de4ea57b9",
   "metadata": {},
   "outputs": [],
   "source": [
    "df = df \\\n",
    "    .withColumn('pickup_date', F.to_date(df.pickup_datetime)) \\\n",
    "    .withColumn('dropoff_date', F.to_date(df.dropOff_datetime)) \\\n",
    "    # .show()"
   ]
  },
  {
   "cell_type": "code",
   "execution_count": 13,
   "id": "fb0cf8f6-2c32-49a2-a9be-12660ff79ae9",
   "metadata": {},
   "outputs": [
    {
     "name": "stdout",
     "output_type": "stream",
     "text": [
      "+--------------------+-------------------+-------------------+------------+------------+-------+----------------------+-----------+------------+\n",
      "|dispatching_base_num|    pickup_datetime|   dropOff_datetime|PUlocationID|DOlocationID|SR_Flag|Affiliated_base_number|pickup_date|dropoff_date|\n",
      "+--------------------+-------------------+-------------------+------------+------------+-------+----------------------+-----------+------------+\n",
      "|              B00009|2019-10-01 00:23:00|2019-10-01 00:35:00|         264|         264|   null|                B00009| 2019-10-01|  2019-10-01|\n",
      "|              B00013|2019-10-01 00:11:29|2019-10-01 00:13:22|         264|         264|   null|                B00013| 2019-10-01|  2019-10-01|\n",
      "|              B00014|2019-10-01 00:11:43|2019-10-01 00:37:20|         264|         264|   null|                B00014| 2019-10-01|  2019-10-01|\n",
      "|              B00014|2019-10-01 00:56:29|2019-10-01 00:57:47|         264|         264|   null|                B00014| 2019-10-01|  2019-10-01|\n",
      "|              B00014|2019-10-01 00:23:09|2019-10-01 00:28:27|         264|         264|   null|                B00014| 2019-10-01|  2019-10-01|\n",
      "|     B00021         |2019-10-01 00:00:48|2019-10-01 00:07:12|         129|         129|   null|       B00021         | 2019-10-01|  2019-10-01|\n",
      "|     B00021         |2019-10-01 00:47:23|2019-10-01 00:53:25|          57|          57|   null|       B00021         | 2019-10-01|  2019-10-01|\n",
      "|     B00021         |2019-10-01 00:10:06|2019-10-01 00:19:50|         173|         173|   null|       B00021         | 2019-10-01|  2019-10-01|\n",
      "|     B00021         |2019-10-01 00:51:37|2019-10-01 01:06:14|         226|         226|   null|       B00021         | 2019-10-01|  2019-10-01|\n",
      "|     B00021         |2019-10-01 00:28:23|2019-10-01 00:34:33|          56|          56|   null|       B00021         | 2019-10-01|  2019-10-01|\n",
      "|     B00021         |2019-10-01 00:31:17|2019-10-01 00:51:52|          82|          82|   null|       B00021         | 2019-10-01|  2019-10-01|\n",
      "|              B00037|2019-10-01 00:07:41|2019-10-01 00:15:23|         264|          71|   null|                B00037| 2019-10-01|  2019-10-01|\n",
      "|              B00037|2019-10-01 00:13:38|2019-10-01 00:25:51|         264|          39|   null|                B00037| 2019-10-01|  2019-10-01|\n",
      "|              B00037|2019-10-01 00:42:40|2019-10-01 00:53:47|         264|         188|   null|                B00037| 2019-10-01|  2019-10-01|\n",
      "|              B00037|2019-10-01 00:58:46|2019-10-01 01:10:11|         264|          91|   null|                B00037| 2019-10-01|  2019-10-01|\n",
      "|              B00037|2019-10-01 00:09:49|2019-10-01 00:14:37|         264|          71|   null|                B00037| 2019-10-01|  2019-10-01|\n",
      "|              B00037|2019-10-01 00:22:35|2019-10-01 00:36:53|         264|          35|   null|                B00037| 2019-10-01|  2019-10-01|\n",
      "|              B00037|2019-10-01 00:54:27|2019-10-01 01:03:37|         264|          61|   null|                B00037| 2019-10-01|  2019-10-01|\n",
      "|              B00037|2019-10-01 00:08:12|2019-10-01 00:28:47|         264|         198|   null|                B00037| 2019-10-01|  2019-10-01|\n",
      "|              B00053|2019-10-01 00:05:24|2019-10-01 00:53:03|         264|         264|   null|                  #N/A| 2019-10-01|  2019-10-01|\n",
      "+--------------------+-------------------+-------------------+------------+------------+-------+----------------------+-----------+------------+\n",
      "only showing top 20 rows\n",
      "\n"
     ]
    }
   ],
   "source": [
    "df.show()"
   ]
  },
  {
   "cell_type": "code",
   "execution_count": 19,
   "id": "30ee3080-71e0-4819-83a4-3484846cc57b",
   "metadata": {},
   "outputs": [
    {
     "data": {
      "text/plain": [
       "62610"
      ]
     },
     "execution_count": 19,
     "metadata": {},
     "output_type": "execute_result"
    }
   ],
   "source": [
    "# Homework Question #3\n",
    "df \\\n",
    "    .filter(df.pickup_date == '2019-10-15') \\\n",
    "    .count() "
   ]
  },
  {
   "cell_type": "code",
   "execution_count": null,
   "id": "09d76453-5d12-4e4f-bc5b-3248ddfb6ccc",
   "metadata": {},
   "outputs": [],
   "source": []
  },
  {
   "cell_type": "code",
   "execution_count": null,
   "id": "fbcd4b67-2c3c-42c8-a880-4e5fda0e4e15",
   "metadata": {},
   "outputs": [],
   "source": []
  },
  {
   "cell_type": "code",
   "execution_count": null,
   "id": "f3e0856d-fe36-4465-8002-867b549354bc",
   "metadata": {},
   "outputs": [],
   "source": []
  },
  {
   "cell_type": "code",
   "execution_count": 30,
   "id": "a9d701f8-7ee8-4ec7-929b-7e791c0216f4",
   "metadata": {},
   "outputs": [
    {
     "name": "stderr",
     "output_type": "stream",
     "text": [
      "[Stage 10:=============================>                            (1 + 1) / 2]\r"
     ]
    },
    {
     "name": "stdout",
     "output_type": "stream",
     "text": [
      "+------------------------------------+\n",
      "|(dropOff_datetime - pickup_datetime)|\n",
      "+------------------------------------+\n",
      "|                INTERVAL '26298 0...|\n",
      "|                INTERVAL '26298 0...|\n",
      "|                INTERVAL '3653 00...|\n",
      "|                INTERVAL '2922 00...|\n",
      "|                INTERVAL '366 10:...|\n",
      "|                INTERVAL '366 00:...|\n",
      "|                INTERVAL '61 00:3...|\n",
      "|                INTERVAL '44 00:4...|\n",
      "|                INTERVAL '44 00:1...|\n",
      "|                INTERVAL '33 01:3...|\n",
      "|                INTERVAL '33 01:2...|\n",
      "|                INTERVAL '33 01:1...|\n",
      "|                INTERVAL '33 00:5...|\n",
      "|                INTERVAL '33 00:5...|\n",
      "|                INTERVAL '33 00:5...|\n",
      "|                INTERVAL '33 00:4...|\n",
      "|                INTERVAL '33 00:4...|\n",
      "|                INTERVAL '33 00:4...|\n",
      "|                INTERVAL '33 00:4...|\n",
      "|                INTERVAL '33 00:4...|\n",
      "+------------------------------------+\n",
      "only showing top 20 rows\n",
      "\n"
     ]
    },
    {
     "name": "stderr",
     "output_type": "stream",
     "text": [
      "                                                                                \r"
     ]
    }
   ],
   "source": [
    "# Homework Question #4\n",
    "# option 1\n",
    "\n",
    "df \\\n",
    "    .select(df.dropOff_datetime - df.pickup_datetime) \\\n",
    "    .sort(F.desc(df.dropOff_datetime - df.pickup_datetime)) \\\n",
    "    .show()\n",
    "    "
   ]
  },
  {
   "cell_type": "code",
   "execution_count": 32,
   "id": "c91b9c23-da64-48dd-ae4e-9e5725ff8048",
   "metadata": {},
   "outputs": [
    {
     "name": "stdout",
     "output_type": "stream",
     "text": [
      "+--------------------+-------------------+-------------------+------------+------------+-------+----------------------+-----------+------------+\n",
      "|dispatching_base_num|    pickup_datetime|   dropOff_datetime|PUlocationID|DOlocationID|SR_Flag|Affiliated_base_number|pickup_date|dropoff_date|\n",
      "+--------------------+-------------------+-------------------+------------+------------+-------+----------------------+-----------+------------+\n",
      "|              B00009|2019-10-01 00:23:00|2019-10-01 00:35:00|         264|         264|   null|                B00009| 2019-10-01|  2019-10-01|\n",
      "|              B00013|2019-10-01 00:11:29|2019-10-01 00:13:22|         264|         264|   null|                B00013| 2019-10-01|  2019-10-01|\n",
      "|              B00014|2019-10-01 00:11:43|2019-10-01 00:37:20|         264|         264|   null|                B00014| 2019-10-01|  2019-10-01|\n",
      "|              B00014|2019-10-01 00:56:29|2019-10-01 00:57:47|         264|         264|   null|                B00014| 2019-10-01|  2019-10-01|\n",
      "|              B00014|2019-10-01 00:23:09|2019-10-01 00:28:27|         264|         264|   null|                B00014| 2019-10-01|  2019-10-01|\n",
      "|     B00021         |2019-10-01 00:00:48|2019-10-01 00:07:12|         129|         129|   null|       B00021         | 2019-10-01|  2019-10-01|\n",
      "|     B00021         |2019-10-01 00:47:23|2019-10-01 00:53:25|          57|          57|   null|       B00021         | 2019-10-01|  2019-10-01|\n",
      "|     B00021         |2019-10-01 00:10:06|2019-10-01 00:19:50|         173|         173|   null|       B00021         | 2019-10-01|  2019-10-01|\n",
      "|     B00021         |2019-10-01 00:51:37|2019-10-01 01:06:14|         226|         226|   null|       B00021         | 2019-10-01|  2019-10-01|\n",
      "|     B00021         |2019-10-01 00:28:23|2019-10-01 00:34:33|          56|          56|   null|       B00021         | 2019-10-01|  2019-10-01|\n",
      "|     B00021         |2019-10-01 00:31:17|2019-10-01 00:51:52|          82|          82|   null|       B00021         | 2019-10-01|  2019-10-01|\n",
      "|              B00037|2019-10-01 00:07:41|2019-10-01 00:15:23|         264|          71|   null|                B00037| 2019-10-01|  2019-10-01|\n",
      "|              B00037|2019-10-01 00:13:38|2019-10-01 00:25:51|         264|          39|   null|                B00037| 2019-10-01|  2019-10-01|\n",
      "|              B00037|2019-10-01 00:42:40|2019-10-01 00:53:47|         264|         188|   null|                B00037| 2019-10-01|  2019-10-01|\n",
      "|              B00037|2019-10-01 00:58:46|2019-10-01 01:10:11|         264|          91|   null|                B00037| 2019-10-01|  2019-10-01|\n",
      "|              B00037|2019-10-01 00:09:49|2019-10-01 00:14:37|         264|          71|   null|                B00037| 2019-10-01|  2019-10-01|\n",
      "|              B00037|2019-10-01 00:22:35|2019-10-01 00:36:53|         264|          35|   null|                B00037| 2019-10-01|  2019-10-01|\n",
      "|              B00037|2019-10-01 00:54:27|2019-10-01 01:03:37|         264|          61|   null|                B00037| 2019-10-01|  2019-10-01|\n",
      "|              B00037|2019-10-01 00:08:12|2019-10-01 00:28:47|         264|         198|   null|                B00037| 2019-10-01|  2019-10-01|\n",
      "|              B00053|2019-10-01 00:05:24|2019-10-01 00:53:03|         264|         264|   null|                  #N/A| 2019-10-01|  2019-10-01|\n",
      "+--------------------+-------------------+-------------------+------------+------------+-------+----------------------+-----------+------------+\n",
      "only showing top 20 rows\n",
      "\n"
     ]
    }
   ],
   "source": [
    "df.show()"
   ]
  },
  {
   "cell_type": "code",
   "execution_count": 34,
   "id": "e25ca92a-c78f-444f-a110-26f461717c9a",
   "metadata": {},
   "outputs": [],
   "source": [
    "# Homework Question #4\n",
    "# option 2\n",
    "\n",
    "df.registerTempTable('dhv_tripdata_2019_10')\n",
    "\n",
    "df_largest_trip = spark.sql(\"\"\"\n",
    "SELECT\n",
    "    max(dropOff_datetime - pickup_datetime) AS hour\n",
    "FROM\n",
    "    dhv_tripdata_2019_10\n",
    "    \n",
    "\n",
    "\"\"\")"
   ]
  },
  {
   "cell_type": "code",
   "execution_count": 35,
   "id": "41a6fdb1-ae4f-40ff-8e2f-736a12ed9eb3",
   "metadata": {},
   "outputs": [
    {
     "name": "stdout",
     "output_type": "stream",
     "text": [
      "+--------------------+\n",
      "|                hour|\n",
      "+--------------------+\n",
      "|INTERVAL '26298 0...|\n",
      "+--------------------+\n",
      "\n"
     ]
    }
   ],
   "source": [
    "df_largest_trip.show()"
   ]
  },
  {
   "cell_type": "code",
   "execution_count": null,
   "id": "ec2d5cc5-05fe-4c4a-b9c2-279dc9d5b2b8",
   "metadata": {},
   "outputs": [],
   "source": [
    "# START\n",
    "# Homework Question #6"
   ]
  },
  {
   "cell_type": "code",
   "execution_count": null,
   "id": "5ce5e5ae-c8bd-48d2-a8c6-5676e9a69a37",
   "metadata": {},
   "outputs": [],
   "source": [
    "df_zones = spark.read.parquet('zones/')"
   ]
  },
  {
   "cell_type": "code",
   "execution_count": 37,
   "id": "25ef8be1-5036-47d6-be1b-2b901ca49017",
   "metadata": {},
   "outputs": [
    {
     "name": "stdout",
     "output_type": "stream",
     "text": [
      "+----------+-------------+--------------------+------------+\n",
      "|LocationID|      Borough|                Zone|service_zone|\n",
      "+----------+-------------+--------------------+------------+\n",
      "|         1|          EWR|      Newark Airport|         EWR|\n",
      "|         2|       Queens|         Jamaica Bay|   Boro Zone|\n",
      "|         3|        Bronx|Allerton/Pelham G...|   Boro Zone|\n",
      "|         4|    Manhattan|       Alphabet City| Yellow Zone|\n",
      "|         5|Staten Island|       Arden Heights|   Boro Zone|\n",
      "|         6|Staten Island|Arrochar/Fort Wad...|   Boro Zone|\n",
      "|         7|       Queens|             Astoria|   Boro Zone|\n",
      "|         8|       Queens|        Astoria Park|   Boro Zone|\n",
      "|         9|       Queens|          Auburndale|   Boro Zone|\n",
      "|        10|       Queens|        Baisley Park|   Boro Zone|\n",
      "|        11|     Brooklyn|          Bath Beach|   Boro Zone|\n",
      "|        12|    Manhattan|        Battery Park| Yellow Zone|\n",
      "|        13|    Manhattan|   Battery Park City| Yellow Zone|\n",
      "|        14|     Brooklyn|           Bay Ridge|   Boro Zone|\n",
      "|        15|       Queens|Bay Terrace/Fort ...|   Boro Zone|\n",
      "|        16|       Queens|             Bayside|   Boro Zone|\n",
      "|        17|     Brooklyn|             Bedford|   Boro Zone|\n",
      "|        18|        Bronx|        Bedford Park|   Boro Zone|\n",
      "|        19|       Queens|           Bellerose|   Boro Zone|\n",
      "|        20|        Bronx|             Belmont|   Boro Zone|\n",
      "+----------+-------------+--------------------+------------+\n",
      "only showing top 20 rows\n",
      "\n"
     ]
    }
   ],
   "source": [
    "df_zones.show()"
   ]
  },
  {
   "cell_type": "code",
   "execution_count": 38,
   "id": "e894d878-0010-49f5-80e8-3c25a634a4af",
   "metadata": {},
   "outputs": [],
   "source": [
    "df_zones.registerTempTable('zones')"
   ]
  },
  {
   "cell_type": "code",
   "execution_count": 43,
   "id": "40ecd1ba-c133-4955-96e7-97434b208b66",
   "metadata": {},
   "outputs": [],
   "source": [
    "df_least_frequent_pickup_zone = spark.sql(\"\"\"\n",
    "\n",
    "SELECT\n",
    "    count(1) as count_pickup_zone,\n",
    "    b.Zone\n",
    "FROM\n",
    "    dhv_tripdata_2019_10 a\n",
    "LEFT JOIN\n",
    "    zones b\n",
    "    on a.PUlocationID = b.LocationID\n",
    "GROUP BY\n",
    "    b.Zone\n",
    "ORDER BY\n",
    "    count_pickup_zone asc\n",
    "\n",
    "\n",
    "/*\n",
    "SELECT\n",
    "    min(count_pickup_zone),\n",
    "    Zone\n",
    "FROM\n",
    "    (\n",
    "        SELECT\n",
    "            count(1) as count_pickup_zone,\n",
    "            b.Zone\n",
    "        FROM\n",
    "            dhv_tripdata_2019_10 a\n",
    "        LEFT JOIN\n",
    "            zones b\n",
    "            on a.PUlocationID = b.LocationID\n",
    "        GROUP BY\n",
    "            b.Zone\n",
    "    )\n",
    "GROUP BY\n",
    "    Zone\n",
    "ORDER BY    \n",
    "\n",
    "*/\n",
    "\n",
    "\n",
    "\"\"\")"
   ]
  },
  {
   "cell_type": "code",
   "execution_count": 44,
   "id": "79734aae-702d-478f-af27-c712b19b2110",
   "metadata": {},
   "outputs": [
    {
     "name": "stdout",
     "output_type": "stream",
     "text": [
      "+-----------------+--------------------+\n",
      "|count_pickup_zone|                Zone|\n",
      "+-----------------+--------------------+\n",
      "|                1|         Jamaica Bay|\n",
      "|                2|Governor's Island...|\n",
      "|                5| Green-Wood Cemetery|\n",
      "|                8|       Broad Channel|\n",
      "|               14|     Highbridge Park|\n",
      "|               15|        Battery Park|\n",
      "|               23|Saint Michaels Ce...|\n",
      "|               25|Breezy Point/Fort...|\n",
      "|               26|Marine Park/Floyd...|\n",
      "|               29|        Astoria Park|\n",
      "|               39|    Inwood Hill Park|\n",
      "|               47|       Willets Point|\n",
      "|               53|Forest Park/Highl...|\n",
      "|               57|  Brooklyn Navy Yard|\n",
      "|               62|        Crotona Park|\n",
      "|               77|        Country Club|\n",
      "|               89|     Freshkills Park|\n",
      "|               98|       Prospect Park|\n",
      "|              105|     Columbia Street|\n",
      "|              110|  South Williamsburg|\n",
      "+-----------------+--------------------+\n",
      "only showing top 20 rows\n",
      "\n"
     ]
    }
   ],
   "source": [
    "# Homework Question #6 \n",
    "# ANSWER\n",
    "# Jamaica Bay\n",
    "df_least_frequent_pickup_zone.show()"
   ]
  },
  {
   "cell_type": "code",
   "execution_count": null,
   "id": "92cf98d5-0593-47ad-87e5-1165e4e23714",
   "metadata": {},
   "outputs": [],
   "source": []
  },
  {
   "cell_type": "code",
   "execution_count": null,
   "id": "6c610d1c-61c7-4202-a695-3c7f7a56268b",
   "metadata": {},
   "outputs": [],
   "source": []
  },
  {
   "cell_type": "code",
   "execution_count": null,
   "id": "3f444e27-aeb1-4edd-97d2-c5ea58dcd030",
   "metadata": {},
   "outputs": [],
   "source": []
  },
  {
   "cell_type": "code",
   "execution_count": null,
   "id": "025f461a-b9b7-4518-a129-a155213ba7ce",
   "metadata": {},
   "outputs": [],
   "source": []
  },
  {
   "cell_type": "code",
   "execution_count": null,
   "id": "10c95ede-9d04-461c-81fc-f3afd382b6f6",
   "metadata": {},
   "outputs": [],
   "source": [
    "!head -n 101 fhv_tripdata_2019-10.csv.gz > fhv_tripdata_2019-10_head.csv"
   ]
  },
  {
   "cell_type": "code",
   "execution_count": null,
   "id": "1ec91ca9-0e5a-4c11-bdb3-40d7f095657d",
   "metadata": {},
   "outputs": [],
   "source": [
    "# pip install pandas"
   ]
  },
  {
   "cell_type": "code",
   "execution_count": null,
   "id": "4d7da672-396f-4c25-9ac8-90b44ab0856d",
   "metadata": {},
   "outputs": [],
   "source": [
    "import pandas as pd"
   ]
  },
  {
   "cell_type": "code",
   "execution_count": null,
   "id": "073de6b1-733e-4c2c-acb6-a568460cfcbb",
   "metadata": {},
   "outputs": [],
   "source": [
    "df_pandas = pd.read_csv('fhv_tripdata_2019-10.csv.gz', compression='gzip', nrows=100)"
   ]
  },
  {
   "cell_type": "code",
   "execution_count": null,
   "id": "a1ed439d-7fee-46e5-ae2b-a5ab14bce66a",
   "metadata": {},
   "outputs": [],
   "source": [
    "df_pandas.shape[0]"
   ]
  },
  {
   "cell_type": "code",
   "execution_count": null,
   "id": "2a483302-b461-4c1b-8a5d-7ecb97ccec26",
   "metadata": {},
   "outputs": [],
   "source": [
    "df_pandas.head(5)"
   ]
  },
  {
   "cell_type": "code",
   "execution_count": null,
   "id": "c2d9b318-079d-452d-b520-16c08f917305",
   "metadata": {},
   "outputs": [],
   "source": [
    "df_pandas.dtypes"
   ]
  },
  {
   "cell_type": "code",
   "execution_count": null,
   "id": "6df71b88-f07b-4d98-81a4-e7e0d3f6c68f",
   "metadata": {},
   "outputs": [],
   "source": [
    "spark.createDataFrame(df_pandas).schema"
   ]
  },
  {
   "cell_type": "code",
   "execution_count": null,
   "id": "792d90fc-54d7-4e2b-962b-08ef9b2bc012",
   "metadata": {},
   "outputs": [],
   "source": []
  }
 ],
 "metadata": {
  "kernelspec": {
   "display_name": "Python 3 (ipykernel)",
   "language": "python",
   "name": "python3"
  },
  "language_info": {
   "codemirror_mode": {
    "name": "ipython",
    "version": 3
   },
   "file_extension": ".py",
   "mimetype": "text/x-python",
   "name": "python",
   "nbconvert_exporter": "python",
   "pygments_lexer": "ipython3",
   "version": "3.10.13"
  }
 },
 "nbformat": 4,
 "nbformat_minor": 5
}
